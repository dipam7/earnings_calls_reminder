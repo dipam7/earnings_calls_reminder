{
 "cells": [
  {
   "cell_type": "code",
   "execution_count": 1,
   "metadata": {},
   "outputs": [],
   "source": [
    "# !pip3 install yahoo-earnings-calendar rumps --quiet"
   ]
  },
  {
   "cell_type": "code",
   "execution_count": 2,
   "metadata": {},
   "outputs": [],
   "source": [
    "import datetime\n",
    "from yahoo_earnings_calendar import YahooEarningsCalendar\n",
    "from collections import defaultdict\n",
    "\n",
    "yec = YahooEarningsCalendar()"
   ]
  },
  {
   "cell_type": "code",
   "execution_count": 3,
   "metadata": {},
   "outputs": [],
   "source": [
    "# lulu was just added for the cell where we find earnings in the next week\n",
    "my_stocks = ['AAPL', 'DOCU', 'FB', 'TSLA', 'LULU']"
   ]
  },
  {
   "cell_type": "code",
   "execution_count": 4,
   "metadata": {},
   "outputs": [],
   "source": [
    "def get_date(ts): return datetime.datetime.fromtimestamp(ts).date()"
   ]
  },
  {
   "cell_type": "code",
   "execution_count": 5,
   "metadata": {},
   "outputs": [],
   "source": [
    "timestamps = [yec.get_next_earnings_date(ticker) for ticker in my_stocks]\n",
    "dates = [get_date(ts) for ts in timestamps]"
   ]
  },
  {
   "cell_type": "code",
   "execution_count": 6,
   "metadata": {},
   "outputs": [],
   "source": [
    "earnings_dict = defaultdict(list)"
   ]
  },
  {
   "cell_type": "code",
   "execution_count": 7,
   "metadata": {},
   "outputs": [],
   "source": [
    "for ticker, earnings_date in zip(my_stocks, dates):\n",
    "    earnings_dict[earnings_date].append(ticker)"
   ]
  },
  {
   "cell_type": "code",
   "execution_count": 8,
   "metadata": {},
   "outputs": [
    {
     "data": {
      "text/plain": [
       "defaultdict(list,\n",
       "            {datetime.date(2021, 10, 27): ['AAPL', 'FB'],\n",
       "             datetime.date(2021, 12, 1): ['DOCU'],\n",
       "             datetime.date(2021, 10, 19): ['TSLA'],\n",
       "             datetime.date(2021, 9, 8): ['LULU']})"
      ]
     },
     "execution_count": 8,
     "metadata": {},
     "output_type": "execute_result"
    }
   ],
   "source": [
    "earnings_dict"
   ]
  },
  {
   "cell_type": "code",
   "execution_count": 9,
   "metadata": {},
   "outputs": [],
   "source": [
    "today = datetime.date.today()\n",
    "next_week = (datetime.datetime.now() + datetime.timedelta(days = 7)).date()"
   ]
  },
  {
   "cell_type": "code",
   "execution_count": 10,
   "metadata": {},
   "outputs": [
    {
     "data": {
      "text/plain": [
       "(datetime.date(2021, 9, 6), datetime.date(2021, 9, 13))"
      ]
     },
     "execution_count": 10,
     "metadata": {},
     "output_type": "execute_result"
    }
   ],
   "source": [
    "today, next_week"
   ]
  },
  {
   "cell_type": "code",
   "execution_count": 11,
   "metadata": {},
   "outputs": [
    {
     "name": "stdout",
     "output_type": "stream",
     "text": [
      "['LULU']\n"
     ]
    }
   ],
   "source": [
    "for earnings_date, tickers in earnings_dict.items():\n",
    "    if today <= earnings_date <= next_week:\n",
    "        print(f'{tickers}')"
   ]
  },
  {
   "cell_type": "code",
   "execution_count": 12,
   "metadata": {},
   "outputs": [],
   "source": [
    "# todo:\n",
    "\n",
    "# we can do multiple things here\n",
    "# add  mac notifications for earnings in the next week and add cron job to run it every day / week\n",
    "# add email notifications and same as above\n",
    "# add all the earnings to google calendar without bothering about earnings in the next week\n",
    "\n",
    "# the other methods in YahooEarningsCalendar are not working so we can just use get_next_earnings_date"
   ]
  },
  {
   "cell_type": "code",
   "execution_count": null,
   "metadata": {},
   "outputs": [],
   "source": []
  }
 ],
 "metadata": {
  "kernelspec": {
   "display_name": "Python 3",
   "language": "python",
   "name": "python3"
  },
  "language_info": {
   "codemirror_mode": {
    "name": "ipython",
    "version": 3
   },
   "file_extension": ".py",
   "mimetype": "text/x-python",
   "name": "python",
   "nbconvert_exporter": "python",
   "pygments_lexer": "ipython3",
   "version": "3.8.3"
  }
 },
 "nbformat": 4,
 "nbformat_minor": 4
}
