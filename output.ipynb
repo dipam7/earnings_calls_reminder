{
 "cells": [
  {
   "cell_type": "markdown",
   "id": "dd3a35bf",
   "metadata": {
    "papermill": {
     "duration": 0.018282,
     "end_time": "2022-04-02T01:26:49.440361",
     "exception": false,
     "start_time": "2022-04-02T01:26:49.422079",
     "status": "completed"
    },
    "tags": []
   },
   "source": [
    "### 0. Installation "
   ]
  },
  {
   "cell_type": "code",
   "execution_count": 1,
   "id": "fff93eb8",
   "metadata": {
    "execution": {
     "iopub.execute_input": "2022-04-02T01:26:49.470430Z",
     "iopub.status.busy": "2022-04-02T01:26:49.469635Z",
     "iopub.status.idle": "2022-04-02T01:26:49.472098Z",
     "shell.execute_reply": "2022-04-02T01:26:49.471592Z"
    },
    "papermill": {
     "duration": 0.017772,
     "end_time": "2022-04-02T01:26:49.472220",
     "exception": false,
     "start_time": "2022-04-02T01:26:49.454448",
     "status": "completed"
    },
    "tags": []
   },
   "outputs": [],
   "source": [
    "# !pip3 install yahoo-earnings-calendar rumps papermill --quiet"
   ]
  },
  {
   "cell_type": "markdown",
   "id": "b25c63a5",
   "metadata": {
    "papermill": {
     "duration": 0.010772,
     "end_time": "2022-04-02T01:26:49.493103",
     "exception": false,
     "start_time": "2022-04-02T01:26:49.482331",
     "status": "completed"
    },
    "tags": []
   },
   "source": [
    "### 1. Make a list of stocks you own (should be ticker symbols)"
   ]
  },
  {
   "cell_type": "code",
   "execution_count": 2,
   "id": "04b867ff",
   "metadata": {
    "execution": {
     "iopub.execute_input": "2022-04-02T01:26:49.517179Z",
     "iopub.status.busy": "2022-04-02T01:26:49.516696Z",
     "iopub.status.idle": "2022-04-02T01:26:49.518742Z",
     "shell.execute_reply": "2022-04-02T01:26:49.519200Z"
    },
    "papermill": {
     "duration": 0.015161,
     "end_time": "2022-04-02T01:26:49.519304",
     "exception": false,
     "start_time": "2022-04-02T01:26:49.504143",
     "status": "completed"
    },
    "tags": []
   },
   "outputs": [],
   "source": [
    "with open(\"companies.txt\", \"r\") as f:\n",
    "    content = f.read()"
   ]
  },
  {
   "cell_type": "code",
   "execution_count": 3,
   "id": "b53e76ed",
   "metadata": {
    "execution": {
     "iopub.execute_input": "2022-04-02T01:26:49.546147Z",
     "iopub.status.busy": "2022-04-02T01:26:49.545445Z",
     "iopub.status.idle": "2022-04-02T01:26:49.548027Z",
     "shell.execute_reply": "2022-04-02T01:26:49.548484Z"
    },
    "papermill": {
     "duration": 0.01957,
     "end_time": "2022-04-02T01:26:49.548589",
     "exception": false,
     "start_time": "2022-04-02T01:26:49.529019",
     "status": "completed"
    },
    "tags": []
   },
   "outputs": [
    {
     "data": {
      "text/plain": [
       "['AAPL', 'DOCU', 'FB', 'TSLA', 'ROKU']"
      ]
     },
     "execution_count": 3,
     "metadata": {},
     "output_type": "execute_result"
    }
   ],
   "source": [
    "# my_stocks = ['AAPL', 'DOCU', 'FB', 'TSLA', 'ROKU']\n",
    "my_stocks = content.split('\\n')\n",
    "my_stocks"
   ]
  },
  {
   "cell_type": "markdown",
   "id": "46e7714f",
   "metadata": {
    "papermill": {
     "duration": 0.011364,
     "end_time": "2022-04-02T01:26:49.571372",
     "exception": false,
     "start_time": "2022-04-02T01:26:49.560008",
     "status": "completed"
    },
    "tags": []
   },
   "source": [
    "### 2. Get today's date and next weeks date"
   ]
  },
  {
   "cell_type": "code",
   "execution_count": 4,
   "id": "2a3dd2f7",
   "metadata": {
    "execution": {
     "iopub.execute_input": "2022-04-02T01:26:49.597028Z",
     "iopub.status.busy": "2022-04-02T01:26:49.596359Z",
     "iopub.status.idle": "2022-04-02T01:26:49.598591Z",
     "shell.execute_reply": "2022-04-02T01:26:49.599055Z"
    },
    "papermill": {
     "duration": 0.015681,
     "end_time": "2022-04-02T01:26:49.599194",
     "exception": false,
     "start_time": "2022-04-02T01:26:49.583513",
     "status": "completed"
    },
    "tags": []
   },
   "outputs": [],
   "source": [
    "import datetime"
   ]
  },
  {
   "cell_type": "code",
   "execution_count": 5,
   "id": "33cedb65",
   "metadata": {
    "execution": {
     "iopub.execute_input": "2022-04-02T01:26:49.624055Z",
     "iopub.status.busy": "2022-04-02T01:26:49.623509Z",
     "iopub.status.idle": "2022-04-02T01:26:49.625451Z",
     "shell.execute_reply": "2022-04-02T01:26:49.625914Z"
    },
    "papermill": {
     "duration": 0.016305,
     "end_time": "2022-04-02T01:26:49.626020",
     "exception": false,
     "start_time": "2022-04-02T01:26:49.609715",
     "status": "completed"
    },
    "tags": []
   },
   "outputs": [],
   "source": [
    "today = datetime.date.today()\n",
    "next_week = (datetime.datetime.now() + datetime.timedelta(days = 7)).date()"
   ]
  },
  {
   "cell_type": "code",
   "execution_count": 6,
   "id": "a97757cb",
   "metadata": {
    "execution": {
     "iopub.execute_input": "2022-04-02T01:26:49.656118Z",
     "iopub.status.busy": "2022-04-02T01:26:49.655310Z",
     "iopub.status.idle": "2022-04-02T01:26:49.658513Z",
     "shell.execute_reply": "2022-04-02T01:26:49.659135Z"
    },
    "papermill": {
     "duration": 0.021833,
     "end_time": "2022-04-02T01:26:49.659257",
     "exception": false,
     "start_time": "2022-04-02T01:26:49.637424",
     "status": "completed"
    },
    "tags": []
   },
   "outputs": [
    {
     "data": {
      "text/plain": [
       "(datetime.date(2022, 4, 1), datetime.date(2022, 4, 8))"
      ]
     },
     "execution_count": 6,
     "metadata": {},
     "output_type": "execute_result"
    }
   ],
   "source": [
    "today, next_week"
   ]
  },
  {
   "cell_type": "markdown",
   "id": "560807a2",
   "metadata": {
    "papermill": {
     "duration": 0.013725,
     "end_time": "2022-04-02T01:26:49.687454",
     "exception": false,
     "start_time": "2022-04-02T01:26:49.673729",
     "status": "completed"
    },
    "tags": []
   },
   "source": [
    "### 3. Find earnings of all your stocks"
   ]
  },
  {
   "cell_type": "code",
   "execution_count": 7,
   "id": "f917903d",
   "metadata": {
    "execution": {
     "iopub.execute_input": "2022-04-02T01:26:49.714709Z",
     "iopub.status.busy": "2022-04-02T01:26:49.714071Z",
     "iopub.status.idle": "2022-04-02T01:26:49.819640Z",
     "shell.execute_reply": "2022-04-02T01:26:49.818984Z"
    },
    "papermill": {
     "duration": 0.120486,
     "end_time": "2022-04-02T01:26:49.819757",
     "exception": false,
     "start_time": "2022-04-02T01:26:49.699271",
     "status": "completed"
    },
    "tags": []
   },
   "outputs": [],
   "source": [
    "from yahoo_earnings_calendar import YahooEarningsCalendar\n",
    "from collections import defaultdict\n",
    "\n",
    "yec = YahooEarningsCalendar()"
   ]
  },
  {
   "cell_type": "code",
   "execution_count": 8,
   "id": "d5398171",
   "metadata": {
    "execution": {
     "iopub.execute_input": "2022-04-02T01:26:49.847420Z",
     "iopub.status.busy": "2022-04-02T01:26:49.846709Z",
     "iopub.status.idle": "2022-04-02T01:26:49.848297Z",
     "shell.execute_reply": "2022-04-02T01:26:49.848776Z"
    },
    "papermill": {
     "duration": 0.016906,
     "end_time": "2022-04-02T01:26:49.848883",
     "exception": false,
     "start_time": "2022-04-02T01:26:49.831977",
     "status": "completed"
    },
    "tags": []
   },
   "outputs": [],
   "source": [
    "def get_date(ts): return datetime.datetime.fromtimestamp(ts).date()"
   ]
  },
  {
   "cell_type": "code",
   "execution_count": 9,
   "id": "b0ebaa7c",
   "metadata": {
    "execution": {
     "iopub.execute_input": "2022-04-02T01:26:49.879137Z",
     "iopub.status.busy": "2022-04-02T01:26:49.878397Z",
     "iopub.status.idle": "2022-04-02T01:27:00.200755Z",
     "shell.execute_reply": "2022-04-02T01:27:00.200129Z"
    },
    "papermill": {
     "duration": 10.339777,
     "end_time": "2022-04-02T01:27:00.200867",
     "exception": false,
     "start_time": "2022-04-02T01:26:49.861090",
     "status": "completed"
    },
    "tags": []
   },
   "outputs": [],
   "source": [
    "timestamps = [yec.get_next_earnings_date(ticker) for ticker in my_stocks]\n",
    "dates = [get_date(ts) for ts in timestamps]"
   ]
  },
  {
   "cell_type": "code",
   "execution_count": 10,
   "id": "0199f4b1",
   "metadata": {
    "execution": {
     "iopub.execute_input": "2022-04-02T01:27:00.228950Z",
     "iopub.status.busy": "2022-04-02T01:27:00.228223Z",
     "iopub.status.idle": "2022-04-02T01:27:00.230232Z",
     "shell.execute_reply": "2022-04-02T01:27:00.230692Z"
    },
    "papermill": {
     "duration": 0.01661,
     "end_time": "2022-04-02T01:27:00.230798",
     "exception": false,
     "start_time": "2022-04-02T01:27:00.214188",
     "status": "completed"
    },
    "tags": []
   },
   "outputs": [],
   "source": [
    "earnings_dict = defaultdict(list)"
   ]
  },
  {
   "cell_type": "code",
   "execution_count": 11,
   "id": "5b104f11",
   "metadata": {
    "execution": {
     "iopub.execute_input": "2022-04-02T01:27:00.256891Z",
     "iopub.status.busy": "2022-04-02T01:27:00.256428Z",
     "iopub.status.idle": "2022-04-02T01:27:00.258523Z",
     "shell.execute_reply": "2022-04-02T01:27:00.258830Z"
    },
    "papermill": {
     "duration": 0.016505,
     "end_time": "2022-04-02T01:27:00.258932",
     "exception": false,
     "start_time": "2022-04-02T01:27:00.242427",
     "status": "completed"
    },
    "tags": []
   },
   "outputs": [],
   "source": [
    "for ticker, earnings_date in zip(my_stocks, dates):\n",
    "    earnings_dict[earnings_date].append(ticker)"
   ]
  },
  {
   "cell_type": "code",
   "execution_count": 12,
   "id": "8b8f1291",
   "metadata": {
    "execution": {
     "iopub.execute_input": "2022-04-02T01:27:00.286858Z",
     "iopub.status.busy": "2022-04-02T01:27:00.285925Z",
     "iopub.status.idle": "2022-04-02T01:27:00.289379Z",
     "shell.execute_reply": "2022-04-02T01:27:00.289830Z"
    },
    "papermill": {
     "duration": 0.019054,
     "end_time": "2022-04-02T01:27:00.289934",
     "exception": false,
     "start_time": "2022-04-02T01:27:00.270880",
     "status": "completed"
    },
    "tags": []
   },
   "outputs": [
    {
     "data": {
      "text/plain": [
       "defaultdict(list,\n",
       "            {datetime.date(2022, 4, 26): ['AAPL', 'FB'],\n",
       "             datetime.date(2022, 6, 1): ['DOCU'],\n",
       "             datetime.date(2022, 4, 25): ['TSLA'],\n",
       "             datetime.date(2022, 5, 4): ['ROKU']})"
      ]
     },
     "execution_count": 12,
     "metadata": {},
     "output_type": "execute_result"
    }
   ],
   "source": [
    "# why are we creating this dict?\n",
    "earnings_dict"
   ]
  },
  {
   "cell_type": "code",
   "execution_count": 13,
   "id": "abf3af63",
   "metadata": {
    "execution": {
     "iopub.execute_input": "2022-04-02T01:27:00.316348Z",
     "iopub.status.busy": "2022-04-02T01:27:00.315882Z",
     "iopub.status.idle": "2022-04-02T01:27:00.318226Z",
     "shell.execute_reply": "2022-04-02T01:27:00.318885Z"
    },
    "papermill": {
     "duration": 0.017869,
     "end_time": "2022-04-02T01:27:00.319004",
     "exception": false,
     "start_time": "2022-04-02T01:27:00.301135",
     "status": "completed"
    },
    "tags": []
   },
   "outputs": [],
   "source": [
    "upcoming_earnings = []\n",
    "for earnings_date, tickers in earnings_dict.items():\n",
    "    if today <= earnings_date <= next_week:\n",
    "        upcoming_earnings.append(ticker, earnings_date)"
   ]
  },
  {
   "cell_type": "code",
   "execution_count": 14,
   "id": "73007f96",
   "metadata": {
    "execution": {
     "iopub.execute_input": "2022-04-02T01:27:00.347202Z",
     "iopub.status.busy": "2022-04-02T01:27:00.346635Z",
     "iopub.status.idle": "2022-04-02T01:27:00.349115Z",
     "shell.execute_reply": "2022-04-02T01:27:00.349573Z"
    },
    "papermill": {
     "duration": 0.018123,
     "end_time": "2022-04-02T01:27:00.349676",
     "exception": false,
     "start_time": "2022-04-02T01:27:00.331553",
     "status": "completed"
    },
    "tags": []
   },
   "outputs": [
    {
     "data": {
      "text/plain": [
       "[]"
      ]
     },
     "execution_count": 14,
     "metadata": {},
     "output_type": "execute_result"
    }
   ],
   "source": [
    "upcoming_earnings"
   ]
  },
  {
   "cell_type": "markdown",
   "id": "63b4d6ad",
   "metadata": {
    "papermill": {
     "duration": 0.011091,
     "end_time": "2022-04-02T01:27:00.372344",
     "exception": false,
     "start_time": "2022-04-02T01:27:00.361253",
     "status": "completed"
    },
    "tags": []
   },
   "source": [
    "### Schedule to run everyday"
   ]
  },
  {
   "cell_type": "code",
   "execution_count": 15,
   "id": "42b77ddf",
   "metadata": {
    "execution": {
     "iopub.execute_input": "2022-04-02T01:27:00.399708Z",
     "iopub.status.busy": "2022-04-02T01:27:00.398904Z",
     "iopub.status.idle": "2022-04-02T01:27:00.401221Z",
     "shell.execute_reply": "2022-04-02T01:27:00.401764Z"
    },
    "papermill": {
     "duration": 0.017674,
     "end_time": "2022-04-02T01:27:00.401872",
     "exception": false,
     "start_time": "2022-04-02T01:27:00.384198",
     "status": "completed"
    },
    "tags": []
   },
   "outputs": [],
   "source": [
    "# create a separate notebook and use papermill to execute this one every morning"
   ]
  },
  {
   "cell_type": "markdown",
   "id": "11b12762",
   "metadata": {
    "papermill": {
     "duration": 0.012926,
     "end_time": "2022-04-02T01:27:00.426688",
     "exception": false,
     "start_time": "2022-04-02T01:27:00.413762",
     "status": "completed"
    },
    "tags": []
   },
   "source": [
    "### Ways to notify"
   ]
  },
  {
   "cell_type": "markdown",
   "id": "999cbc53",
   "metadata": {
    "papermill": {
     "duration": 0.011536,
     "end_time": "2022-04-02T01:27:00.449771",
     "exception": false,
     "start_time": "2022-04-02T01:27:00.438235",
     "status": "completed"
    },
    "tags": []
   },
   "source": [
    "#### Send yourself an email about it"
   ]
  },
  {
   "cell_type": "code",
   "execution_count": 16,
   "id": "d3daf234",
   "metadata": {
    "execution": {
     "iopub.execute_input": "2022-04-02T01:27:00.475076Z",
     "iopub.status.busy": "2022-04-02T01:27:00.474596Z",
     "iopub.status.idle": "2022-04-02T01:27:00.476721Z",
     "shell.execute_reply": "2022-04-02T01:27:00.477187Z"
    },
    "papermill": {
     "duration": 0.016241,
     "end_time": "2022-04-02T01:27:00.477286",
     "exception": false,
     "start_time": "2022-04-02T01:27:00.461045",
     "status": "completed"
    },
    "tags": []
   },
   "outputs": [],
   "source": [
    "# todo"
   ]
  },
  {
   "cell_type": "markdown",
   "id": "4139ef8d",
   "metadata": {
    "papermill": {
     "duration": 0.012013,
     "end_time": "2022-04-02T01:27:00.501340",
     "exception": false,
     "start_time": "2022-04-02T01:27:00.489327",
     "status": "completed"
    },
    "tags": []
   },
   "source": [
    "#### MacOS notifications"
   ]
  },
  {
   "cell_type": "code",
   "execution_count": 17,
   "id": "8e4011af",
   "metadata": {
    "execution": {
     "iopub.execute_input": "2022-04-02T01:27:00.529170Z",
     "iopub.status.busy": "2022-04-02T01:27:00.528709Z",
     "iopub.status.idle": "2022-04-02T01:27:00.941489Z",
     "shell.execute_reply": "2022-04-02T01:27:00.942134Z"
    },
    "papermill": {
     "duration": 0.427899,
     "end_time": "2022-04-02T01:27:00.942289",
     "exception": false,
     "start_time": "2022-04-02T01:27:00.514390",
     "status": "completed"
    },
    "tags": []
   },
   "outputs": [],
   "source": [
    "import rumps"
   ]
  },
  {
   "cell_type": "code",
   "execution_count": 18,
   "id": "cf041ea2",
   "metadata": {
    "execution": {
     "iopub.execute_input": "2022-04-02T01:27:00.971658Z",
     "iopub.status.busy": "2022-04-02T01:27:00.970888Z",
     "iopub.status.idle": "2022-04-02T01:27:00.973955Z",
     "shell.execute_reply": "2022-04-02T01:27:00.974444Z"
    },
    "papermill": {
     "duration": 0.019,
     "end_time": "2022-04-02T01:27:00.974546",
     "exception": false,
     "start_time": "2022-04-02T01:27:00.955546",
     "status": "completed"
    },
    "tags": []
   },
   "outputs": [],
   "source": [
    "rumps.notification(\"Awesome title\", \"amazing subtitle\", \"hi!!1\")"
   ]
  },
  {
   "cell_type": "markdown",
   "id": "c7a9b63f",
   "metadata": {
    "papermill": {
     "duration": 0.011079,
     "end_time": "2022-04-02T01:27:00.997311",
     "exception": false,
     "start_time": "2022-04-02T01:27:00.986232",
     "status": "completed"
    },
    "tags": []
   },
   "source": [
    "#### Get a text about it"
   ]
  },
  {
   "cell_type": "code",
   "execution_count": 19,
   "id": "d18c1eb6",
   "metadata": {
    "execution": {
     "iopub.execute_input": "2022-04-02T01:27:01.026858Z",
     "iopub.status.busy": "2022-04-02T01:27:01.026142Z",
     "iopub.status.idle": "2022-04-02T01:27:01.028195Z",
     "shell.execute_reply": "2022-04-02T01:27:01.028740Z"
    },
    "papermill": {
     "duration": 0.019376,
     "end_time": "2022-04-02T01:27:01.028850",
     "exception": false,
     "start_time": "2022-04-02T01:27:01.009474",
     "status": "completed"
    },
    "tags": []
   },
   "outputs": [],
   "source": [
    "# todo"
   ]
  },
  {
   "cell_type": "markdown",
   "id": "6fb14afd",
   "metadata": {
    "papermill": {
     "duration": 0.013467,
     "end_time": "2022-04-02T01:27:01.056689",
     "exception": false,
     "start_time": "2022-04-02T01:27:01.043222",
     "status": "completed"
    },
    "tags": []
   },
   "source": [
    "#### Add a reminder in your calendar"
   ]
  },
  {
   "cell_type": "code",
   "execution_count": 20,
   "id": "842bbe7c",
   "metadata": {
    "execution": {
     "iopub.execute_input": "2022-04-02T01:27:01.087753Z",
     "iopub.status.busy": "2022-04-02T01:27:01.086834Z",
     "iopub.status.idle": "2022-04-02T01:27:01.089427Z",
     "shell.execute_reply": "2022-04-02T01:27:01.090317Z"
    },
    "papermill": {
     "duration": 0.021028,
     "end_time": "2022-04-02T01:27:01.090443",
     "exception": false,
     "start_time": "2022-04-02T01:27:01.069415",
     "status": "completed"
    },
    "tags": []
   },
   "outputs": [],
   "source": [
    "# todo"
   ]
  }
 ],
 "metadata": {
  "kernelspec": {
   "display_name": "Python 3",
   "language": "python",
   "name": "python3"
  },
  "language_info": {
   "codemirror_mode": {
    "name": "ipython",
    "version": 3
   },
   "file_extension": ".py",
   "mimetype": "text/x-python",
   "name": "python",
   "nbconvert_exporter": "python",
   "pygments_lexer": "ipython3",
   "version": "3.8.3"
  },
  "papermill": {
   "default_parameters": {},
   "duration": 13.069012,
   "end_time": "2022-04-02T01:27:01.417942",
   "environment_variables": {},
   "exception": null,
   "input_path": "earnings_calls_reminder.ipynb",
   "output_path": "output.ipynb",
   "parameters": {},
   "start_time": "2022-04-02T01:26:48.348930",
   "version": "2.3.4"
  }
 },
 "nbformat": 4,
 "nbformat_minor": 5
}